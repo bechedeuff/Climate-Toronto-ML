{
 "cells": [
  {
   "cell_type": "code",
   "execution_count": 1,
   "metadata": {},
   "outputs": [],
   "source": [
    "# Imports\n",
    "\n",
    "import pandas as pd\n",
    "import numpy as np\n",
    "import matplotlib.pyplot as plt\n",
    "import seaborn as sns"
   ]
  },
  {
   "cell_type": "code",
   "execution_count": 2,
   "metadata": {},
   "outputs": [],
   "source": [
    "# Load data\n",
    "\n",
    "df = pd.read_pickle(\"../data/interim/climate_df.pkl\")"
   ]
  },
  {
   "cell_type": "code",
   "execution_count": 3,
   "metadata": {},
   "outputs": [
    {
     "name": "stderr",
     "output_type": "stream",
     "text": [
      "C:\\Users\\bechede\\AppData\\Local\\Temp\\ipykernel_8772\\3631981094.py:8: FutureWarning: DataFrame.interpolate with object dtype is deprecated and will raise in a future version. Call obj.infer_objects(copy=False) before interpolating instead.\n",
      "  df[col] = df[col].interpolate()\n"
     ]
    }
   ],
   "source": [
    "# Filling missing values with a interpolation method\n",
    "\n",
    "# Get all columns to fill missing values\n",
    "predictor_columns = list[df.columns[5:]]\n",
    "\n",
    "# Fill missing values with interpolation\n",
    "for col in predictor_columns:\n",
    "    df[col] = df[col].interpolate()"
   ]
  },
  {
   "cell_type": "code",
   "execution_count": 4,
   "metadata": {},
   "outputs": [
    {
     "name": "stdout",
     "output_type": "stream",
     "text": [
      "<class 'pandas.core.frame.DataFrame'>\n",
      "DatetimeIndex: 2192 entries, 2015-01-01 to 2020-12-31\n",
      "Data columns (total 10 columns):\n",
      " #   Column    Non-Null Count  Dtype  \n",
      "---  ------    --------------  -----  \n",
      " 0   Station   2192 non-null   object \n",
      " 1   ID        2192 non-null   int64  \n",
      " 2   Year      2192 non-null   int64  \n",
      " 3   Month     2192 non-null   int64  \n",
      " 4   Day       2192 non-null   int64  \n",
      " 5   Max_T     2192 non-null   float64\n",
      " 6   Min_T     2192 non-null   float64\n",
      " 7   Mean_T    2192 non-null   float64\n",
      " 8   HDD       2192 non-null   float64\n",
      " 9   Precip_T  2192 non-null   float64\n",
      "dtypes: float64(5), int64(4), object(1)\n",
      "memory usage: 188.4+ KB\n"
     ]
    }
   ],
   "source": [
    "# Info\n",
    "\n",
    "df.info()"
   ]
  },
  {
   "cell_type": "code",
   "execution_count": 5,
   "metadata": {},
   "outputs": [],
   "source": [
    "# Save climate data to interim folder in a pickle format\n",
    "df.to_pickle(\"../data/interim/climate_df_imputedNA.pkl\")"
   ]
  },
  {
   "cell_type": "markdown",
   "metadata": {},
   "source": [
    "## Fill with mean"
   ]
  },
  {
   "cell_type": "code",
   "execution_count": 6,
   "metadata": {},
   "outputs": [
    {
     "data": {
      "text/plain": [
       "'df[\"Max_T\"] = df[\"Max_T\"].fillna(df[\"Max_T\"].mean())\\ndf[\"Min_T\"] = df[\"Min_T\"].fillna(df[\"Min_T\"].mean())\\ndf[\"Mean_T\"] = df[\"Mean_T\"].fillna(df[\"Mean_T\"].mean())\\ndf[\"HDD\"] = df[\"HDD\"].fillna(df[\"HDD\"].mean())\\ndf[\"Precip_T\"] = df[\"Precip_T\"].fillna(df[\"Precip_T\"].mean())'"
      ]
     },
     "execution_count": 6,
     "metadata": {},
     "output_type": "execute_result"
    }
   ],
   "source": [
    "\"\"\"df[\"Max_T\"] = df[\"Max_T\"].fillna(df[\"Max_T\"].mean())\n",
    "df[\"Min_T\"] = df[\"Min_T\"].fillna(df[\"Min_T\"].mean())\n",
    "df[\"Mean_T\"] = df[\"Mean_T\"].fillna(df[\"Mean_T\"].mean())\n",
    "df[\"HDD\"] = df[\"HDD\"].fillna(df[\"HDD\"].mean())\n",
    "df[\"Precip_T\"] = df[\"Precip_T\"].fillna(df[\"Precip_T\"].mean())\"\"\""
   ]
  },
  {
   "cell_type": "code",
   "execution_count": 7,
   "metadata": {},
   "outputs": [
    {
     "data": {
      "text/plain": [
       "'# Save climate data to interim folder in a pickle format\\ndf.to_pickle(\"../data/interim/weather_df_noNA.pkl\")'"
      ]
     },
     "execution_count": 7,
     "metadata": {},
     "output_type": "execute_result"
    }
   ],
   "source": [
    "\"\"\"# Save climate data to interim folder in a pickle format\n",
    "df.to_pickle(\"../data/interim/weather_df_noNA.pkl\")\"\"\""
   ]
  }
 ],
 "metadata": {
  "kernelspec": {
   "display_name": "climate_toronto",
   "language": "python",
   "name": "python3"
  },
  "language_info": {
   "codemirror_mode": {
    "name": "ipython",
    "version": 3
   },
   "file_extension": ".py",
   "mimetype": "text/x-python",
   "name": "python",
   "nbconvert_exporter": "python",
   "pygments_lexer": "ipython3",
   "version": "3.11.5"
  },
  "orig_nbformat": 4
 },
 "nbformat": 4,
 "nbformat_minor": 2
}
